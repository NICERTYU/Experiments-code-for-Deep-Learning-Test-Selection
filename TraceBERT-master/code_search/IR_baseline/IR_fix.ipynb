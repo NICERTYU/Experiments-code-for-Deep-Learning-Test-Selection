{
 "cells": [
  {
   "cell_type": "code",
   "execution_count": 2,
   "metadata": {},
   "outputs": [
    {
     "name": "stdout",
     "output_type": "stream",
     "text": [
      "Collecting many_stop_words\n",
      "  Downloading many-stop-words-0.2.2.tar.gz (25 kB)\n",
      "  Preparing metadata (setup.py) ... \u001b[?25ldone\n",
      "\u001b[?25hBuilding wheels for collected packages: many_stop_words\n",
      "  Building wheel for many_stop_words (setup.py) ... \u001b[?25ldone\n",
      "\u001b[?25h  Created wheel for many_stop_words: filename=many_stop_words-0.2.2-py3-none-any.whl size=26222 sha256=8413338333a009fd459d9d8e72d27b6d63e43ad4117f5c2385839633a030e30c\n",
      "  Stored in directory: /Users/gw/Library/Caches/pip/wheels/47/6b/f0/9e99d79bc01d33cdaf41fb66c71880fe1e92c5d9adb1768df3\n",
      "Successfully built many_stop_words\n",
      "Installing collected packages: many_stop_words\n",
      "Successfully installed many_stop_words-0.2.2\n",
      "\n",
      "\u001b[1m[\u001b[0m\u001b[34;49mnotice\u001b[0m\u001b[1;39;49m]\u001b[0m\u001b[39;49m A new release of pip is available: \u001b[0m\u001b[31;49m24.2\u001b[0m\u001b[39;49m -> \u001b[0m\u001b[32;49m24.3.1\u001b[0m\n",
      "\u001b[1m[\u001b[0m\u001b[34;49mnotice\u001b[0m\u001b[1;39;49m]\u001b[0m\u001b[39;49m To update, run: \u001b[0m\u001b[32;49mpip install --upgrade pip\u001b[0m\n"
     ]
    }
   ],
   "source": [
    "!pip install many_stop_words  -i https://pypi.org/simple"
   ]
  }
 ],
 "metadata": {
  "kernelspec": {
   "display_name": "base",
   "language": "python",
   "name": "python3"
  },
  "language_info": {
   "codemirror_mode": {
    "name": "ipython",
    "version": 3
   },
   "file_extension": ".py",
   "mimetype": "text/x-python",
   "name": "python",
   "nbconvert_exporter": "python",
   "pygments_lexer": "ipython3",
   "version": "3.11.8"
  }
 },
 "nbformat": 4,
 "nbformat_minor": 2
}
